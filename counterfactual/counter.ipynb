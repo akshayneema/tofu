{
 "cells": [
  {
   "cell_type": "code",
   "execution_count": 3,
   "metadata": {},
   "outputs": [
    {
     "name": "stdout",
     "output_type": "stream",
     "text": [
      "WARNING 04-26 22:52:26 config.py:1011] Casting torch.bfloat16 to torch.float16.\n",
      "INFO 04-26 22:52:26 llm_engine.py:98] Initializing an LLM engine (v0.4.1) with config: model='meta-llama/Meta-Llama-3-8B-Instruct', speculative_config=None, tokenizer='meta-llama/Meta-Llama-3-8B-Instruct', skip_tokenizer_init=False, tokenizer_mode=auto, revision=None, tokenizer_revision=None, trust_remote_code=False, dtype=torch.float16, max_seq_len=512, download_dir=None, load_format=auto, tensor_parallel_size=1, disable_custom_all_reduce=False, quantization=None, enforce_eager=False, kv_cache_dtype=auto, quantization_param_path=None, device_config=cuda, decoding_config=DecodingConfig(guided_decoding_backend='outlines'), seed=42)\n"
     ]
    },
    {
     "name": "stderr",
     "output_type": "stream",
     "text": [
      "Special tokens have been added in the vocabulary, make sure the associated word embeddings are fine-tuned or trained.\n"
     ]
    },
    {
     "name": "stdout",
     "output_type": "stream",
     "text": [
      "INFO 04-26 22:52:26 weight_utils.py:193] Using model weights format ['*.safetensors']\n",
      "INFO 04-26 22:52:36 model_runner.py:173] Loading model weights took 14.9575 GB\n",
      "INFO 04-26 22:52:37 gpu_executor.py:119] # GPU blocks: 9913, # CPU blocks: 2048\n",
      "INFO 04-26 22:52:39 model_runner.py:976] Capturing the model for CUDA graphs. This may lead to unexpected consequences if the model is not static. To run the model in eager mode, set 'enforce_eager=True' or use '--enforce-eager' in the CLI.\n",
      "INFO 04-26 22:52:39 model_runner.py:980] CUDA graphs can take additional 1~3 GiB memory per GPU. If you are running out of memory, consider decreasing `gpu_memory_utilization` or enforcing eager mode. You can also reduce the `max_num_seqs` as needed to decrease memory usage.\n",
      "INFO 04-26 22:52:45 model_runner.py:1057] Graph capturing finished in 6 secs.\n"
     ]
    },
    {
     "name": "stderr",
     "output_type": "stream",
     "text": [
      "Special tokens have been added in the vocabulary, make sure the associated word embeddings are fine-tuned or trained.\n"
     ]
    }
   ],
   "source": [
    "from vllm import LLM, SamplingParams\n",
    "# from vllm.model_executor.parallel_utils.parallel_state import destroy_model_parallel\n",
    "from transformers import AutoTokenizer, AutoTokenizer\n",
    "from tqdm import tqdm\n",
    "import torch\n",
    "import re\n",
    "import argparse\n",
    "import pandas as pd\n",
    "import uuid\n",
    "from datetime import datetime\n",
    "import datasets\n",
    "seed=42\n",
    "import transformers\n",
    "\n",
    "from datasets import load_dataset\n",
    "def self_vllmgen(model,df,input_field='text',output_field='text',max_tokens=512, temperature=0.7,top_p=0.9):\n",
    "    sampling_params = SamplingParams(max_tokens=max_tokens, temperature=temperature,top_p = top_p)\n",
    "    # model_inputs = [tokenizer(n_shotprompt, return_tensors=\"pt\")]\n",
    "    outputs = model.generate(df[input_field].values.tolist(), sampling_params)\n",
    "    answers=[output.outputs[0].text.strip() for output in outputs]\n",
    "    df[output_field]=answers\n",
    "    return df\n",
    "\n",
    "# model_name=\"/project/pi_hongyu_umass_edu/zonghai/clinical-llm-alignment/rishabh/saved-models/monday_m1\"\n",
    "# base_model=\"mistralai/Mistral-7B-v0.1\"\n",
    "# model_name=\"\"\"/project/pi_hongyu_umass_edu/zonghai/clinical-llm-alignment/rishabh/saved-models/final_m1/merged_model\"\"\"\n",
    "# model_name=\"\"\"meta-llama/Meta-Llama-3-8B\"\"\"\n",
    "model_name=\"\"\"meta-llama/Meta-Llama-3-8B-Instruct\"\"\"\n",
    "\n",
    "# model_name=\"\"\"/project/pi_hongyu_umass_edu/zonghai/clinical-llm-alignment/rishabh/saved-models/better_m2/better-m2-filt-rand-ep5-15-April-2024-rand-dpo/merged_model\"\"\"\n",
    "# model_name=\"\"\"/project/pi_hongyu_umass_edu/zonghai/clinical-llm-alignment/rishabh/saved-models/better_m2/better-m2-filter-14-April-2024-ifd-dpo/merged_model\"\"\"\n",
    "# model_name=\"\"\"/project/pi_hongyu_umass_edu/zonghai/clinical-llm-alignment/rishabh/saved-models/better_m1/merged_modelm1\"\"\"\n",
    "# model_name=\"\"\"/project/pi_hongyu_umass_edu/zonghai/clinical-llm-alignment/rishabh/saved-models/final_m2/mistral-m2-filter-ep5-08-April-2024ifd-dpo/merged_model\"\"\"\n",
    "# model_name=\"\"\"mistralai/Mistral-7B-v0.1\"\"\"\n",
    "# tokenizer_path=\"/project/pi_hongyu_umass_edu/zonghai/clinical-llm-alignment/rishabh/saved-models/final_m2/mistral-m2-filter-08-April-2024ifd-dpo\"\n",
    "# model_id=\"\"\"better_m2-ep5-rand\"\"\"\n",
    "# model_id=\"\"\"b\"\"\"\n",
    "\n",
    "model = LLM(model=model_name,\n",
    "        tokenizer=model_name, \n",
    "        tensor_parallel_size=torch.cuda.device_count(), \n",
    "        seed=seed, \n",
    "        max_model_len=512,\n",
    "        gpu_memory_utilization=0.9, \n",
    "        dtype=torch.float16,\n",
    "        \n",
    ")\n",
    "# pipeline = transformers.pipeline(\n",
    "#     \"text-generation\", model=model_name, model_kwargs={\"torch_dtype\": torch.float16}, device_map=\"auto\")\n",
    "\n",
    "# print(f\"############### Model/VLLM engine Loaded from {model_name}\")\n",
    "tokenizer = AutoTokenizer.from_pretrained(model_name,trust_remote_code=True)\n",
    "tokenizer.pad_token = tokenizer.eos_token"
   ]
  },
  {
   "cell_type": "code",
   "execution_count": 60,
   "metadata": {},
   "outputs": [],
   "source": [
    "\n",
    "def extract_responses(answer):\n",
    "    prompts = []\n",
    "    while True:\n",
    "        pattern = f\"<resp>\"\n",
    "        start = answer.find(pattern)\n",
    "        if start == -1:\n",
    "            break\n",
    "        end = answer.find(\"</resp>\")\n",
    "        if end == -1:\n",
    "            break\n",
    "        prompts.append(answer[start + len(pattern):end])\n",
    "        # answer = answer[end + len(\"</r>\"):]\n",
    "    return prompts\n"
   ]
  },
  {
   "cell_type": "code",
   "execution_count": 170,
   "metadata": {},
   "outputs": [
    {
     "name": "stderr",
     "output_type": "stream",
     "text": [
      "Map: 100%|██████████| 40/40 [00:00<00:00, 4320.46 examples/s]\n",
      "Processed prompts: 100%|██████████| 40/40 [00:05<00:00,  6.80it/s]\n"
     ]
    }
   ],
   "source": [
    "ncandidate=4\n",
    "\n",
    "# output_path='./counterfactual_forget01.json'\n",
    "output_path='./test.json'\n",
    "dataset = load_dataset(\"locuslab/TOFU\", \"forget01\")\n",
    "data=dataset['train']\n",
    "\n",
    "counterfactual_prompt=\"\"\"\n",
    "Given text has different facts about fictional authors. A counterfactual of a sentence is created by changing 1 fact about the author from it, keeping the rest of the sentence same . \\n\n",
    "Generate 4 counterfactual sentences, between <counter> tags. Text:\\n\n",
    "\"\"\"\n",
    "\n",
    "def chat_template_vllm(prompt):\n",
    "    # chat = [\n",
    "    # {\"role\": \"user\", \"content\": f\"{counterfactual_prompt} sentence:{prompt['answer']}\"},\n",
    "    # ]\n",
    "    # prompt['chat']=tokenizer.apply_chat_template(chat, tokenize=False)\n",
    "    prompt['chat']=f\"{counterfactual_prompt} {prompt['answer']}\\n\\n Output:\\n\"\n",
    "    return prompt\n",
    "\n",
    "data=data.map(chat_template_vllm)\n",
    "df=pd.DataFrame(data)\n",
    "df=df.iloc[:50]\n",
    "# df.iloc[:10].to_json('./sample.json')\n",
    "# print(df.head())\n",
    "# for c in tqdm(range(ncandidate)):\n",
    "df=self_vllmgen(model,df,input_field='chat',output_field=f'counterfactual',max_tokens=256, temperature=0.2,top_p=0.9)\n",
    "# na_rows = df_counter[df_counter.isna().any(axis=1)]"
   ]
  },
  {
   "cell_type": "code",
   "execution_count": 181,
   "metadata": {},
   "outputs": [],
   "source": [
    "def extract_scores(text):\n",
    "    score_pattern = re.compile(r\"(?:total\\s*score|scores?|total)\\s*[:\\-]?\\s*(\\d+)(?:\\.\\d+)?\", re.IGNORECASE)\n",
    "    found_scores = score_pattern.findall(text)\n",
    "    return [int(score) for score in found_scores]\n",
    "\n",
    "def extract_responses(text):\n",
    "    # This pattern matches text between <response> and </response> tags\n",
    "    pattern = r\"<counter>(.*?)</counter>\"\n",
    "    # Using re.findall to find all occurrences that match the pattern\n",
    "    responses = re.findall(pattern, text, re.DOTALL)\n",
    "    return responses[:4]\n",
    "def separate_sentences(text):\n",
    "    # Split text based on numbered list patterns and clean up spaces and newlines\n",
    "    sentences = re.split(r'\\d+\\.\\s+', text.strip())\n",
    "    \n",
    "    # Remove empty strings from the list\n",
    "    sentences = [sentence.strip() for sentence in sentences if sentence.strip()]\n",
    "    \n",
    "    return sentences"
   ]
  },
  {
   "cell_type": "code",
   "execution_count": 182,
   "metadata": {},
   "outputs": [],
   "source": [
    "\n",
    "df['counters']=df['counterfactual'].apply(extract_responses)\n",
    "# df['counters']=df['counterfactual'].apply(separate_sentences)\n",
    "# df['counters']=df['counterfactual'].apply(lambda x: x.split(\"::\"))"
   ]
  },
  {
   "cell_type": "code",
   "execution_count": 184,
   "metadata": {},
   "outputs": [
    {
     "data": {
      "text/plain": [
       "<Axes: >"
      ]
     },
     "execution_count": 184,
     "metadata": {},
     "output_type": "execute_result"
    },
    {
     "data": {
      "image/png": "[encoded data removed]",
      "text/plain": [
       "<Figure size 640x480 with 1 Axes>"
      ]
     },
     "metadata": {},
     "output_type": "display_data"
    }
   ],
   "source": [
    "df['length']=df['counters'].apply(len)\n",
    "df['length'].hist()"
   ]
  },
  {
   "cell_type": "code",
   "execution_count": 183,
   "metadata": {},
   "outputs": [
    {
     "data": {
      "text/plain": [
       "['Author Basil Mahfouz Al-Kuwaiti is female.',\n",
       " 'Author Basil Mahfouz Al-Kuwaiti is British.',\n",
       " 'Author Basil Mahfouz Al-Kuwaiti is a poet.',\n",
       " 'Author Basil Mahfouz Al-Kuwaiti is a mathematician.']"
      ]
     },
     "execution_count": 183,
     "metadata": {},
     "output_type": "execute_result"
    }
   ],
   "source": [
    "df.iloc[1].counters"
   ]
  },
  {
   "cell_type": "code",
   "execution_count": 30,
   "metadata": {},
   "outputs": [
    {
     "data": {
      "text/plain": [
       "['\\nAuthor Basil Mahfouz Al-Kuwaiti is female.\\nAuthor Basil Mahfouz Al-Kuwaiti is a woman.\\nAuthor Basil Mahfouz Al-Kuwaiti is a man.\\nAuthor Basil Mahfouz Al-Kuwaiti is non-binary.\\n']"
      ]
     },
     "execution_count": 30,
     "metadata": {},
     "output_type": "execute_result"
    }
   ],
   "source": [
    "df['counters'].iloc[1]"
   ]
  },
  {
   "cell_type": "code",
   "execution_count": 154,
   "metadata": {},
   "outputs": [
    {
     "name": "stderr",
     "output_type": "stream",
     "text": [
      "Processed prompts:   0%|          | 0/40 [00:00<?, ?it/s]"
     ]
    },
    {
     "name": "stderr",
     "output_type": "stream",
     "text": [
      "Processed prompts: 100%|██████████| 40/40 [00:09<00:00,  4.23it/s]\n"
     ]
    }
   ],
   "source": [
    "sentence_prompt=\"\"\"\n",
    "I have given a text which contains similar sentences with other irrelevant text. Identify and extract the sentences and separate them using <counter> tags. Text:\\n\n",
    "\"\"\"\n",
    "def sent_vllm(sentence):\n",
    "    # ch= [\n",
    "    #     {\"role\": \"user\", \"content\": f\"{sentence_prompt} sentence:{sentence}\"},\n",
    "    # ]\n",
    "    # prompt = {}\n",
    "    r= f\"{sentence_prompt} {sentence}\"\n",
    "    return r\n",
    "    # return prompt\n",
    "\n",
    "df['sent_sep'] = df['counterfactual'].apply(sent_vllm)\n",
    "df=self_vllmgen(model,df,input_field='sent_sep',output_field=f'separated',max_tokens=512, temperature=0.2,top_p=0.7)\n"
   ]
  },
  {
   "cell_type": "code",
   "execution_count": 156,
   "metadata": {},
   "outputs": [
    {
     "data": {
      "text/plain": [
       "'|  |  |  |  |  |  |  |  |  |  |  |  |  |  |  |  |  |  |  |  |  |  |  |  |  |  |  |  |  |  |  |  |  |  |  |  |  |  |  |  |  |  |  |  |  |  |  |  |  |  |  |  |  |  |  |  |  |  |  |  |  |  |  |  |  |  |  |  |  |  |  |  |  |  |  |  |  |  |  |  |  |  |  |  |  |  |  |  |  |  |  |  |  |  |  |  |  |  |  |  |  |  |  |  |  |  |  |  |  |  |  |'"
      ]
     },
     "execution_count": 156,
     "metadata": {},
     "output_type": "execute_result"
    }
   ],
   "source": [
    "df['separated'].iloc[10]"
   ]
  },
  {
   "cell_type": "code",
   "execution_count": 189,
   "metadata": {},
   "outputs": [
    {
     "name": "stderr",
     "output_type": "stream",
     "text": [
      "Creating json from Arrow format: 100%|██████████| 1/1 [00:00<00:00,  2.30ba/s]\n"
     ]
    },
    {
     "data": {
      "text/plain": [
       "77504"
      ]
     },
     "execution_count": 189,
     "metadata": {},
     "output_type": "execute_result"
    }
   ],
   "source": [
    "def create_dpo_structure(row):\n",
    "    entries = []\n",
    "    # Assuming 'responses' is a list of four sentences\n",
    "    for response in row['counters']:\n",
    "        entries.append({\n",
    "            'prompt': row['question'],\n",
    "            'chosen': response + tokenizer.eos_token,\n",
    "            'rejected': row['answer'] + tokenizer.eos_token\n",
    "        })\n",
    "    return entries\n",
    "split='forget01'\n",
    "processed_entries = []\n",
    "df.apply(lambda row: processed_entries.extend(create_dpo_structure(row)), axis=1)\n",
    "from datasets import Dataset\n",
    "dataset=Dataset.from_list(processed_entries)\n",
    "dataset.to_json(f\"../data/dpo-{split}.json\")            "
   ]
  },
  {
   "cell_type": "code",
   "execution_count": null,
   "metadata": {},
   "outputs": [],
   "source": []
  }
 ],
 "metadata": {
  "kernelspec": {
   "display_name": "Python 3",
   "language": "python",
   "name": "python3"
  },
  "language_info": {
   "codemirror_mode": {
    "name": "ipython",
    "version": 3
   },
   "file_extension": ".py",
   "mimetype": "text/x-python",
   "name": "python",
   "nbconvert_exporter": "python",
   "pygments_lexer": "ipython3",
   "version": "3.10.14"
  }
 },
 "nbformat": 4,
 "nbformat_minor": 2
}
